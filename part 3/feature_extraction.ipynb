{
 "cells": [
  {
   "cell_type": "code",
   "execution_count": 88,
   "metadata": {
    "collapsed": true,
    "pycharm": {
     "name": "#%%\n"
    }
   },
   "outputs": [],
   "source": [
    "from scapy.all import PcapReader\n",
    "import re\n",
    "from typing import List, Any\n",
    "from scapy.plist import PacketList\n",
    "import glob\n",
    "from tqdm import tqdm   \n",
    "import pandas as pd\n",
    "import csv"
   ]
  },
  {
   "cell_type": "code",
   "execution_count": 89,
   "metadata": {},
   "outputs": [],
   "source": [
    "# read the pcap file and return a list of packets\n",
    "def read_pcap(filename: str) -> PacketList:\n",
    "\treader = PcapReader(filename)\n",
    "\treturn reader.read_all()"
   ]
  },
  {
   "cell_type": "code",
   "execution_count": 20,
   "metadata": {},
   "outputs": [
    {
     "name": "stderr",
     "output_type": "stream",
     "text": [
      "100%|██████████| 1500/1500 [02:12<00:00, 11.29it/s]\n"
     ]
    }
   ],
   "source": [
    "# get the number of packets of each packet size occuring in the dataset\n",
    "PATH = \"data/*.pcap\"\n",
    "files = sorted(glob.glob(PATH)) \n",
    "packet_sizes_dict = {}\n",
    "for file in tqdm(files):\n",
    "    plist = read_pcap(file)\n",
    "    for packet in plist:\n",
    "        if len(packet) not in packet_sizes_dict:\n",
    "            packet_sizes_dict[len(packet)] = 1\n",
    "        else:\n",
    "            packet_sizes_dict[len(packet)] = packet_sizes_dict[len(packet)] + 1"
   ]
  },
  {
   "cell_type": "code",
   "execution_count": 104,
   "metadata": {},
   "outputs": [],
   "source": [
    "# get the top K packet sizes to later use them as features\n",
    "K = 20\n",
    "sorted_dict = sorted(packet_sizes_dict.items(), key = lambda item: item[1], reverse=True)\n",
    "TOP_K_INDICES, _ = zip(*sorted_dict[:K])"
   ]
  },
  {
   "cell_type": "code",
   "execution_count": 105,
   "metadata": {},
   "outputs": [],
   "source": [
    "\"\"\" Feature extraction helper functions \"\"\"\n",
    "# get label name\n",
    "def extract_label_from_filename(filename: str) -> int:\n",
    "\treturn int(re.search('grid_(\\d+).+', filename).group(1))\n",
    "\n",
    "# get number of packets\n",
    "def number_of_packets(plist: PacketList) -> int:\n",
    "    return len(plist)\n",
    "\n",
    "# get time duration\n",
    "def time_duration(plist: PacketList) -> float:\n",
    "    max_timestamp = max([packet.time for packet in plist])\n",
    "    min_timestamp = min([packet.time for packet in plist])\n",
    "    return float(max_timestamp - min_timestamp)\n",
    "\n",
    "# get total traffic volume\n",
    "def total_traffic_volume(plist: PacketList) -> int:\n",
    "    return sum([len(packet) for packet in plist])\n",
    "\n",
    "# get number of packets sent by client\n",
    "def count_packets_sent_by_client(plist: PacketList) -> PacketList:\n",
    "    return len([packet for packet in plist if packet[0][1].src.startswith('172.')])\n",
    "\n",
    "# get number of packets sent to the client\n",
    "def count_packets_sent_to_client(plist: PacketList) -> PacketList:\n",
    "    return len([packet for packet in plist if packet[0][1].dst.startswith('172.')])\n",
    "\n",
    "# count the number of packets with length in top k\n",
    "def count_packets_with_length_in_top_k(plist: PacketList, top_k_indices) -> int:\n",
    "    packet_count = {index: 0 for index in top_k_indices}\n",
    "    for packet in plist:\n",
    "        if len(packet) in packet_count:\n",
    "            packet_count[len(packet)] = packet_count[len(packet)] + 1\n",
    "    return packet_count"
   ]
  },
  {
   "cell_type": "code",
   "execution_count": 92,
   "metadata": {},
   "outputs": [],
   "source": [
    "# extract features\n",
    "def extract_features(filename: str) -> List[Any]:\n",
    "    # read pcap file\n",
    "    plist = read_pcap(filename)\n",
    "    # extract features\n",
    "    features = {}\n",
    "    features['label'] = extract_label_from_filename(filename)\n",
    "    features['number_of_packets'] = number_of_packets(plist)\n",
    "    features['time_duration'] = time_duration(plist)\n",
    "    features['total_traffic_volume'] = total_traffic_volume(plist)\n",
    "    features['count_packets_sent_by_client'] = count_packets_sent_by_client(plist)\n",
    "    features['count_packets_sent_to_client'] = count_packets_sent_to_client(plist)\n",
    "    for index, count in count_packets_with_length_in_top_k(plist, TOP_K_INDICES).items():\n",
    "        features[f'count_packets_with_length_{index}'] = count\n",
    "    return features"
   ]
  },
  {
   "cell_type": "code",
   "execution_count": 93,
   "metadata": {},
   "outputs": [
    {
     "data": {
      "text/plain": [
       "{'label': 1,\n",
       " 'number_of_packets': 437,\n",
       " 'time_duration': 18.438893,\n",
       " 'total_traffic_volume': 461872,\n",
       " 'count_packets_sent_by_client': 181,\n",
       " 'count_packets_sent_to_client': 256,\n",
       " 'count_packets_with_length_54': 183,\n",
       " 'count_packets_with_length_590': 79,\n",
       " 'count_packets_with_length_2530': 60,\n",
       " 'count_packets_with_length_2950': 0,\n",
       " 'count_packets_with_length_1292': 26,\n",
       " 'count_packets_with_length_3674': 5,\n",
       " 'count_packets_with_length_3768': 17,\n",
       " 'count_packets_with_length_4398': 0,\n",
       " 'count_packets_with_length_1198': 20,\n",
       " 'count_packets_with_length_1502': 0,\n",
       " 'count_packets_with_length_1104': 3,\n",
       " 'count_packets_with_length_778': 0,\n",
       " 'count_packets_with_length_5006': 5,\n",
       " 'count_packets_with_length_496': 4,\n",
       " 'count_packets_with_length_4124': 1,\n",
       " 'count_packets_with_length_7294': 0,\n",
       " 'count_packets_with_length_1314': 0,\n",
       " 'count_packets_with_length_380': 2,\n",
       " 'count_packets_with_length_5846': 0,\n",
       " 'count_packets_with_length_402': 1,\n",
       " 'count_packets_with_length_6244': 1,\n",
       " 'count_packets_with_length_7482': 1,\n",
       " 'count_packets_with_length_170': 1,\n",
       " 'count_packets_with_length_1618': 1,\n",
       " 'count_packets_with_length_654': 1,\n",
       " 'count_packets_with_length_8742': 0,\n",
       " 'count_packets_with_length_684': 0,\n",
       " 'count_packets_with_length_1010': 1,\n",
       " 'count_packets_with_length_894': 2,\n",
       " 'count_packets_with_length_916': 1,\n",
       " 'count_packets_with_length_140': 0,\n",
       " 'count_packets_with_length_3160': 1,\n",
       " 'count_packets_with_length_2132': 0,\n",
       " 'count_packets_with_length_4210': 0,\n",
       " 'count_packets_with_length_2646': 0,\n",
       " 'count_packets_with_length_192': 0,\n",
       " 'count_packets_with_length_1126': 1,\n",
       " 'count_packets_with_length_264': 0,\n",
       " 'count_packets_with_length_286': 0,\n",
       " 'count_packets_with_length_308': 1,\n",
       " 'count_packets_with_length_8720': 0,\n",
       " 'count_packets_with_length_938': 1,\n",
       " 'count_packets_with_length_1514': 0,\n",
       " 'count_packets_with_length_11638': 0,\n",
       " 'count_packets_with_length_9958': 0,\n",
       " 'count_packets_with_length_822': 0,\n",
       " 'count_packets_with_length_214': 1,\n",
       " 'count_packets_with_length_6600': 0,\n",
       " 'count_packets_with_length_706': 0,\n",
       " 'count_packets_with_length_800': 2}"
      ]
     },
     "execution_count": 93,
     "metadata": {},
     "output_type": "execute_result"
    }
   ],
   "source": [
    "extract_features(\"data/grid_1_20230527_095444.pcap\")"
   ]
  },
  {
   "cell_type": "code",
   "execution_count": 106,
   "metadata": {},
   "outputs": [
    {
     "name": "stderr",
     "output_type": "stream",
     "text": [
      "100%|██████████| 1500/1500 [04:02<00:00,  6.19it/s]\n"
     ]
    }
   ],
   "source": [
    "# extract features\n",
    "feature_list = []\n",
    "for filename in tqdm(files):\n",
    "    feature_list.append(extract_features(filename))"
   ]
  },
  {
   "cell_type": "code",
   "execution_count": 107,
   "metadata": {},
   "outputs": [],
   "source": [
    "# write features to csv file\n",
    "keys = feature_list[0].keys()\n",
    "with open('features.csv', 'w', newline='') as output_file:\n",
    "    dict_writer = csv.DictWriter(output_file, keys)\n",
    "    dict_writer.writeheader()\n",
    "    dict_writer.writerows(feature_list)"
   ]
  }
 ],
 "metadata": {
  "kernelspec": {
   "display_name": "Python 3",
   "language": "python",
   "name": "python3"
  },
  "language_info": {
   "codemirror_mode": {
    "name": "ipython",
    "version": 3
   },
   "file_extension": ".py",
   "mimetype": "text/x-python",
   "name": "python",
   "nbconvert_exporter": "python",
   "pygments_lexer": "ipython3",
   "version": "3.9.2"
  }
 },
 "nbformat": 4,
 "nbformat_minor": 0
}
