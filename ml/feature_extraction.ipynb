{
 "cells": [
  {
   "cell_type": "code",
   "execution_count": 240,
   "metadata": {
    "collapsed": true,
    "pycharm": {
     "name": "#%%\n"
    }
   },
   "outputs": [],
   "source": [
    "from scapy.all import PcapReader\n",
    "import re\n",
    "from typing import List, Any\n",
    "from scapy.plist import PacketList"
   ]
  },
  {
   "cell_type": "code",
   "execution_count": 241,
   "outputs": [],
   "source": [
    "def extract_label_from_filename(filename: str) -> int:\n",
    "\treturn int(re.search('grid_(\\d+).+', filename).group(1))\n",
    "\n",
    "def read_pcap(filename: str) -> PacketList:\n",
    "\treader = PcapReader(filename)\n",
    "\treturn reader.read_all()\n",
    "\n",
    "def extract_features(plist: PacketList) -> List[Any]:\n",
    "\t# feature 1 = number of packets\n",
    "\tfeatures = [len(plist)]\n",
    "\n",
    "\t# feature 2 = time duration\n",
    "\tmax_timestamp = max([packet.time for packet in plist])\n",
    "\tmin_timestamp = min([packet.time for packet in plist])\n",
    "\tfeatures.append(max_timestamp - min_timestamp)\n",
    "\n",
    "    # feature 3 = dict of packet size as key and number of packets with that size as value\n",
    "\tpacket_length_dict = {}\n",
    "\tfor packet in plist:\n",
    "\t\tif len(packet) not in packet_length_dict:\n",
    "\t\t\tpacket_length_dict[len(packet)] = 1\n",
    "\t\telse:\n",
    "\t\t\tpacket_length_dict[len(packet)] = packet_length_dict[len(packet)] + 1\n",
    "\n",
    "\tassert sum([packet_length_dict[key] for key in packet_length_dict]) == len(plist)\n",
    "\tfeatures.append(packet_length_dict)\n",
    "\n",
    "\treturn features"
   ],
   "metadata": {
    "collapsed": false,
    "pycharm": {
     "name": "#%%\n"
    }
   }
  },
  {
   "cell_type": "code",
   "execution_count": 242,
   "outputs": [
    {
     "name": "stdout",
     "output_type": "stream",
     "text": [
      "1\n",
      "[437, Decimal('18.438893'), {590: 79, 54: 183, 4124: 1, 654: 1, 1618: 1, 2530: 60, 5006: 5, 402: 1, 3160: 1, 1148: 1, 1198: 20, 3768: 17, 1292: 26, 1170: 1, 3674: 5, 1104: 3, 1098: 1, 800: 2, 2502: 1, 13194: 1, 12912: 1, 2032: 1, 1126: 1, 496: 4, 380: 2, 938: 1, 844: 2, 894: 2, 4464: 1, 750: 2, 170: 1, 4818: 1, 3204: 1, 308: 1, 916: 1, 1032: 1, 1010: 1, 6244: 1, 7482: 1, 214: 1}]\n"
     ]
    }
   ],
   "source": [
    "print(extract_label_from_filename(\"grid_1_20230527_095444.pcap\"))\n",
    "plist = read_pcap(\"grid_1_20230527_095444.pcap\")\n",
    "print(extract_features(plist))"
   ],
   "metadata": {
    "collapsed": false,
    "pycharm": {
     "name": "#%%\n"
    }
   }
  }
 ],
 "metadata": {
  "kernelspec": {
   "display_name": "Python 3",
   "language": "python",
   "name": "python3"
  },
  "language_info": {
   "codemirror_mode": {
    "name": "ipython",
    "version": 2
   },
   "file_extension": ".py",
   "mimetype": "text/x-python",
   "name": "python",
   "nbconvert_exporter": "python",
   "pygments_lexer": "ipython2",
   "version": "2.7.6"
  }
 },
 "nbformat": 4,
 "nbformat_minor": 0
}