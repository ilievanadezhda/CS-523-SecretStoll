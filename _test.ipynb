{
 "cells": [
  {
   "cell_type": "code",
   "execution_count": 1,
   "metadata": {},
   "outputs": [],
   "source": [
    "from petrelic.multiplicative.pairing import G1, G2, GT\n",
    "from credential import *\n",
    "import pickle\n",
    "import hashlib"
   ]
  },
  {
   "cell_type": "code",
   "execution_count": 2,
   "metadata": {},
   "outputs": [],
   "source": [
    "# Pedersen commitment\n",
    "\n",
    "# G cyclic group of order p\n",
    "p = G1.order()\n",
    "g = G1.generator()\n",
    "h = G1.generator()"
   ]
  },
  {
   "cell_type": "code",
   "execution_count": 3,
   "metadata": {},
   "outputs": [],
   "source": [
    "# Prover input\n",
    "x = G1.order().random()\n",
    "r = G1.order().random()"
   ]
  },
  {
   "cell_type": "code",
   "execution_count": 4,
   "metadata": {},
   "outputs": [],
   "source": [
    "# Commitment\n",
    "C = g ** x * h ** r"
   ]
  },
  {
   "cell_type": "code",
   "execution_count": 5,
   "metadata": {},
   "outputs": [],
   "source": [
    "# Zero knowledge proof\n",
    "# Prover\n",
    "# 1. Choose random r_x, r_r\n",
    "r_x = G1.order().random()\n",
    "r_r = G1.order().random()"
   ]
  },
  {
   "cell_type": "code",
   "execution_count": 6,
   "metadata": {},
   "outputs": [
    {
     "data": {
      "text/plain": [
       "G1Element(03116d010e5303107b603facd6d4b61ec86d9f9b6283a5acf3110b0ffef5ede77f9ec37715b9141fcdbf4b34d4d581a903)"
      ]
     },
     "execution_count": 6,
     "metadata": {},
     "output_type": "execute_result"
    }
   ],
   "source": [
    "# 2. Compute commitment\n",
    "R = g ** r_x * h ** r_r\n",
    "R"
   ]
  },
  {
   "cell_type": "code",
   "execution_count": 7,
   "metadata": {},
   "outputs": [],
   "source": [
    "def get_challenge(public_values, p):\n",
    "    c = hashlib.sha256()\n",
    "    for value in public_values:\n",
    "        c.update(value.to_binary())\n",
    "    return bytes_to_Z_p(c.digest(), p)"
   ]
  },
  {
   "cell_type": "code",
   "execution_count": 8,
   "metadata": {},
   "outputs": [
    {
     "ename": "TypeError",
     "evalue": "bytes_to_Z_p() takes 1 positional argument but 2 were given",
     "output_type": "error",
     "traceback": [
      "\u001b[0;31m---------------------------------------------------------------------------\u001b[0m",
      "\u001b[0;31mTypeError\u001b[0m                                 Traceback (most recent call last)",
      "Cell \u001b[0;32mIn [8], line 2\u001b[0m\n\u001b[1;32m      1\u001b[0m \u001b[39m# 3. Compute challenge\u001b[39;00m\n\u001b[0;32m----> 2\u001b[0m c \u001b[39m=\u001b[39m get_challenge([g, h, C, R], p)\n",
      "Cell \u001b[0;32mIn [7], line 5\u001b[0m, in \u001b[0;36mget_challenge\u001b[0;34m(public_values, p)\u001b[0m\n\u001b[1;32m      3\u001b[0m \u001b[39mfor\u001b[39;00m value \u001b[39min\u001b[39;00m public_values:\n\u001b[1;32m      4\u001b[0m     c\u001b[39m.\u001b[39mupdate(value\u001b[39m.\u001b[39mto_binary())\n\u001b[0;32m----> 5\u001b[0m \u001b[39mreturn\u001b[39;00m bytes_to_Z_p(c\u001b[39m.\u001b[39;49mdigest(), p)\n",
      "\u001b[0;31mTypeError\u001b[0m: bytes_to_Z_p() takes 1 positional argument but 2 were given"
     ]
    }
   ],
   "source": [
    "# 3. Compute challenge\n",
    "c = get_challenge([g, h, C, R], p)"
   ]
  },
  {
   "cell_type": "code",
   "execution_count": null,
   "metadata": {},
   "outputs": [],
   "source": [
    "s_x = (r_x - c * x) % p\n",
    "s_r = (r_r - c * r) % p"
   ]
  },
  {
   "cell_type": "code",
   "execution_count": 9,
   "metadata": {},
   "outputs": [
    {
     "ename": "NameError",
     "evalue": "name 'c' is not defined",
     "output_type": "error",
     "traceback": [
      "\u001b[0;31m---------------------------------------------------------------------------\u001b[0m",
      "\u001b[0;31mNameError\u001b[0m                                 Traceback (most recent call last)",
      "Cell \u001b[0;32mIn [9], line 1\u001b[0m\n\u001b[0;32m----> 1\u001b[0m R \u001b[39m==\u001b[39m C \u001b[39m*\u001b[39m\u001b[39m*\u001b[39m c \u001b[39m*\u001b[39m g \u001b[39m*\u001b[39m\u001b[39m*\u001b[39m s_x \u001b[39m*\u001b[39m h \u001b[39m*\u001b[39m\u001b[39m*\u001b[39m s_r\n",
      "\u001b[0;31mNameError\u001b[0m: name 'c' is not defined"
     ]
    }
   ],
   "source": [
    "R == C ** c * g ** s_x * h ** s_r"
   ]
  },
  {
   "cell_type": "code",
   "execution_count": 10,
   "metadata": {},
   "outputs": [],
   "source": [
    "public_keys = ...\n",
    "prover_input = ..."
   ]
  },
  {
   "cell_type": "code",
   "execution_count": 11,
   "metadata": {},
   "outputs": [],
   "source": [
    "def get_commitment(public_keys):\n",
    "    random_values = [G1.order().random() for _ in public_keys]\n",
    "    R = 1\n",
    "    for key, value in zip(public_keys, random_values):\n",
    "        R *= key ** value\n",
    "    return random_values, R"
   ]
  },
  {
   "cell_type": "code",
   "execution_count": 12,
   "metadata": {},
   "outputs": [],
   "source": [
    "# i, attr (Bn)\n",
    "# t (Bn)\n",
    "\n",
    "def get_C(pk, user_attributes):\n",
    "    # pick random t from integers modulo p\n",
    "    t = G1.order().random()\n",
    "    \n",
    "    # compute commitment\n",
    "    C = pk.g ** t\n",
    "    for (i, attr) in user_attributes.get_attributes():\n",
    "        C *= pk.Y[i] ** bytes_to_Z_p(attr, G1.order())\n",
    "    return C"
   ]
  },
  {
   "cell_type": "code",
   "execution_count": 13,
   "metadata": {},
   "outputs": [],
   "source": [
    "def get_commitment(pk, user_attributes):\n",
    "    randoms = [G1.order().random() for _ in user_attributes.get_attributes() + 1]\n",
    "\n",
    "    R = pk.g ** randoms[0]\n",
    "\n",
    "    for (i, attr), random in zip(user_attributes.get_attributes(), randoms[1:]):\n",
    "        R *= pk.Y[i] ** random\n",
    "    \n",
    "    return randoms, R"
   ]
  },
  {
   "cell_type": "code",
   "execution_count": 14,
   "metadata": {},
   "outputs": [],
   "source": [
    "def get_challenge(public_values):\n",
    "    c = hashlib.sha256()\n",
    "    for value in public_values:\n",
    "        c.update(value.to_binary())\n",
    "    return bytes_to_Z_p(c.digest(), G1.order())"
   ]
  },
  {
   "cell_type": "code",
   "execution_count": 15,
   "metadata": {},
   "outputs": [],
   "source": [
    "def get_response(randoms, user_attributes, t, challenge):\n",
    "    responses = [random[0] - challenge*t]\n",
    "    for random, (i, attr) in zip(randoms[1:], user_attributes.get_attributes()):\n",
    "        responses.append((random - challenge * bytes_to_Z_p(attr, G1.order())) % G1.order())\n",
    "    return responses"
   ]
  },
  {
   "cell_type": "code",
   "execution_count": 16,
   "metadata": {},
   "outputs": [
    {
     "ename": "NameError",
     "evalue": "name 'pk' is not defined",
     "output_type": "error",
     "traceback": [
      "\u001b[0;31m---------------------------------------------------------------------------\u001b[0m",
      "\u001b[0;31mNameError\u001b[0m                                 Traceback (most recent call last)",
      "Cell \u001b[0;32mIn [16], line 5\u001b[0m\n\u001b[1;32m      1\u001b[0m \u001b[39m# prover input\u001b[39;00m\n\u001b[1;32m      2\u001b[0m \u001b[39m# t, attr (Bn)\u001b[39;00m\n\u001b[1;32m      3\u001b[0m \n\u001b[1;32m      4\u001b[0m \u001b[39m# generators\u001b[39;00m\n\u001b[0;32m----> 5\u001b[0m generators \u001b[39m=\u001b[39m [pk\u001b[39m.\u001b[39mg] \u001b[39m+\u001b[39m [pk\u001b[39m.\u001b[39mY[i] \u001b[39mfor\u001b[39;00m i, _ \u001b[39min\u001b[39;00m user_attributes\u001b[39m.\u001b[39mget_attributes()]\n\u001b[1;32m      7\u001b[0m \u001b[39m# prover input\u001b[39;00m\n\u001b[1;32m      8\u001b[0m \u001b[39m# t, attr (Bn)\u001b[39;00m\n\u001b[1;32m      9\u001b[0m prover_inputs \u001b[39m=\u001b[39m [t] \u001b[39m+\u001b[39m [bytes_to_Zp(attr) \u001b[39mfor\u001b[39;00m _, attr \u001b[39min\u001b[39;00m user_attributes\u001b[39m.\u001b[39mget_attributes()]\n",
      "\u001b[0;31mNameError\u001b[0m: name 'pk' is not defined"
     ]
    }
   ],
   "source": [
    "# prover input\n",
    "# t, attr (Bn)\n",
    "\n",
    "# generators\n",
    "generators = [pk.g] + [pk.Y[i] for i, _ in user_attributes.get_attributes()]\n",
    "\n",
    "# prover input\n",
    "# t, attr (Bn)\n",
    "prover_inputs = [t] + [bytes_to_Zp(attr) for _, attr in user_attributes.get_attributes()]"
   ]
  },
  {
   "cell_type": "code",
   "execution_count": 17,
   "metadata": {},
   "outputs": [
    {
     "data": {
      "text/plain": [
       "G1Element(0217f1d3a73197d7942695638c4fa9ac0fc3688c4f9774b905a14e3a3f171bac586c55e83ff97a1aeffb3af00adb22c6bb)"
      ]
     },
     "execution_count": 17,
     "metadata": {},
     "output_type": "execute_result"
    }
   ],
   "source": [
    "sk, pk = generate_key(10*[1])\n",
    "pk.g"
   ]
  },
  {
   "cell_type": "code",
   "execution_count": 18,
   "metadata": {},
   "outputs": [
    {
     "data": {
      "text/plain": [
       "[G1Element(030884d691e3b72376f9e9ccb37e0cf38103fdddbcbd8ac6b74c134c5eb79f06e870ea0cdca575557a532e45280e93100b),\n",
       " G1Element(0316c3a5e578890886b4b0bf741d15d933ffa6302238f970bdd9a35d3c5a55b6dd3fb7417baa93ee47087a43f410e3f52d),\n",
       " G1Element(02004779ee53d59142889804d2875ae4f2e3b9bd412330979a2a67aedf22273d8d2b6f0c8b9aa80f047159ed289602b4a9),\n",
       " G1Element(03015fbcd0ec85a8e510bdd565ca4d56ae63422a13159df27c1ccc7b3edd009f326e2a7e50eb5d8b5f87ed00c2a0fa32d8),\n",
       " G1Element(030a880a4a2a3e851509f20d19af0acc4d9581f291b4603ae5fe55b24aa97f5242cffb469741c73b0ef8dd0e26837646c3),\n",
       " G1Element(0212d71ce0fbd2e0e8ef5dcc7a33606c3d714790cfb267cb2bf9200b6bcd1478f73d9f0f702c71a5f14d31ea3358c502ae),\n",
       " G1Element(020ab5c89fcdc02b8f0c272de786e6fa0bd357f8fd698bfd4d567c546b3ebd835f215a7bb82944139b8fce7a03820e194d),\n",
       " G1Element(020d561ba2cd732aa9f505fa65ac3089bc6679b3454b1362daa5e156ce61e3b308a1e29ef5f251e8eb52599b0efba6b8b3),\n",
       " G1Element(03130b0d0ff20c801dc65ae325e111f7a4b16bede5d471434e3e64b66afe7ba8af3c43d27f226199bfca8626db477af41a),\n",
       " G1Element(0202017960d177e171cf0a421d9a264c72563ed8095c6f5164f7519626b7155a031116e6d0d1f8a92f397d705cb1ee66b8)]"
      ]
     },
     "execution_count": 18,
     "metadata": {},
     "output_type": "execute_result"
    }
   ],
   "source": [
    "pk.Y"
   ]
  },
  {
   "cell_type": "code",
   "execution_count": 19,
   "metadata": {},
   "outputs": [],
   "source": [
    "from petrelic.multiplicative.pairing import G1Element\n",
    "\n",
    "def get_zkp_commitment(\n",
    "        generators : List[G1Element]\n",
    "        ) -> Tuple[G1Element, List[Bn]]:\n",
    "    \"\"\" Generate a commitment \"\"\"\n",
    "    # pick a list of random numbers from integers modulo p\n",
    "    randoms = [G1.order().random() for _ in generators]\n",
    "\n",
    "    # compute commitment\n",
    "    R = generators[0] ** randoms[0]\n",
    "    for generator, random in zip(generators[1:], randoms[1:]):\n",
    "        R *= generator ** random\n",
    "\n",
    "    return randoms, R"
   ]
  },
  {
   "cell_type": "code",
   "execution_count": 20,
   "metadata": {},
   "outputs": [],
   "source": [
    "def get_zkp_challenge(\n",
    "        generators : List[G1Element],\n",
    "        com : Bn,\n",
    "        R : G1Element\n",
    "        ) -> Bn:\n",
    "        \"\"\" Generate a non-interactive challenge according to the Fiat-Shamir heuristic \"\"\"\n",
    "        c = hashlib.sha256()\n",
    "        for generator in generators:\n",
    "                c.update(generator.to_binary())\n",
    "        c.update(com.to_binary())\n",
    "        c.update(R.to_binary())\n",
    "        return bytes_to_Z_p(c.digest())"
   ]
  },
  {
   "cell_type": "code",
   "execution_count": 21,
   "metadata": {},
   "outputs": [],
   "source": [
    "def get_zkp_response(\n",
    "        randoms: List[Bn],\n",
    "        c: Bn,\n",
    "        prover_input: List[Bn]\n",
    "        ) -> List[Bn]:\n",
    "        \"\"\" Generate a response \"\"\"\n",
    "        return [(random - c * input).mod(G1.order()) for random, input in zip(randoms, prover_input)]"
   ]
  },
  {
   "cell_type": "code",
   "execution_count": 22,
   "metadata": {},
   "outputs": [],
   "source": [
    "def verify_zkp(\n",
    "        R: G1Element,\n",
    "        com: G1Element,\n",
    "        c: Bn,\n",
    "        generators: List[G1Element],\n",
    "        response: List[Bn]\n",
    "        ) -> bool:\n",
    "        \"\"\" Verify a zero-knowledge proof \"\"\"\n",
    "        lhs = R\n",
    "        rhs = com**c\n",
    "        for generator, resp in zip(generators, response):\n",
    "                rhs *= generator ** resp\n",
    "        return lhs == rhs"
   ]
  },
  {
   "cell_type": "code",
   "execution_count": 23,
   "metadata": {},
   "outputs": [],
   "source": [
    "L = 5\n",
    "sk, pk = generate_key([b\"0\"] * L)\n",
    "\n",
    "user_attributes = AttributeMap(L)\n",
    "user_attributes.set_attribute(0, b'hello')\n",
    "user_attributes.set_attribute(1, b'1')\n",
    "user_attributes.set_attribute(2, b'2')"
   ]
  },
  {
   "cell_type": "code",
   "execution_count": 24,
   "metadata": {},
   "outputs": [],
   "source": [
    "# pick random t from integers modulo p\n",
    "t = G1.order().random()\n",
    "\n",
    "# compute commitment\n",
    "C = pk.g ** t\n",
    "for (i, attr) in user_attributes.get_attributes():\n",
    "    C *= pk.Y[i] ** bytes_to_Z_p(attr)"
   ]
  },
  {
   "cell_type": "code",
   "execution_count": 25,
   "metadata": {},
   "outputs": [
    {
     "data": {
      "text/plain": [
       "G1Element(02035d3b239cb09667a340f808f7095a289afed1007e4cd13618574d5af05791bec29ad38290ae22345b3b435d6154c716)"
      ]
     },
     "execution_count": 25,
     "metadata": {},
     "output_type": "execute_result"
    }
   ],
   "source": [
    "C"
   ]
  },
  {
   "cell_type": "code",
   "execution_count": 26,
   "metadata": {},
   "outputs": [],
   "source": [
    "# prover input\n",
    "# t, attr (Bn)\n",
    "\n",
    "# generators\n",
    "generators = [pk.g] + [pk.Y[i] for i, _ in user_attributes.get_attributes()]\n",
    "\n",
    "# prover input\n",
    "# t, attr (Bn)\n",
    "prover_inputs = [t] + [bytes_to_Z_p(attr) for _, attr in user_attributes.get_attributes()]"
   ]
  },
  {
   "cell_type": "code",
   "execution_count": 27,
   "metadata": {},
   "outputs": [
    {
     "data": {
      "text/plain": [
       "[G1Element(0217f1d3a73197d7942695638c4fa9ac0fc3688c4f9774b905a14e3a3f171bac586c55e83ff97a1aeffb3af00adb22c6bb),\n",
       " G1Element(030f83ee2c00684abac384c477a8173a3a4b5821560b79ab72445707f15d03e555916384f1499de1674379f4a2d575d2f2),\n",
       " G1Element(030a1f7f79367a78cb34a4d21f3886224d2b9d9fd58fa8bc2b5224cfb946456ecbf1def1948c71b1f1e94272fd9191cac8),\n",
       " G1Element(020bab85821fda41c6bf8ff97b3b68d8c6c43c1377a5c53a07c464ebb1aabccceca9f9edf54ff9ce5f17a002e6e73c2309)]"
      ]
     },
     "execution_count": 27,
     "metadata": {},
     "output_type": "execute_result"
    }
   ],
   "source": [
    "generators"
   ]
  },
  {
   "cell_type": "code",
   "execution_count": 28,
   "metadata": {},
   "outputs": [
    {
     "data": {
      "text/plain": [
       "[Bn(35846693713698439960853117498377448791333903644787183196605534079416094967898),\n",
       " Bn(20329878786436204988385760252021328656300425018755239228739303522659023427620),\n",
       " Bn(48635463943209834798109814161294753926839975257569795305637098542720658922315),\n",
       " Bn(43658286468849876353920127463240192620539495994902638395191669966194749975348)]"
      ]
     },
     "execution_count": 28,
     "metadata": {},
     "output_type": "execute_result"
    }
   ],
   "source": [
    "prover_inputs"
   ]
  },
  {
   "cell_type": "code",
   "execution_count": 29,
   "metadata": {},
   "outputs": [
    {
     "name": "stdout",
     "output_type": "stream",
     "text": [
      "Randoms:  [Bn(36652827464143185810952154712574822203782711103348179358491341243715408016344), Bn(35234697353464543378943975766439153736313695384551062629354656258975319570643), Bn(22419324642539633055219523681734339888843564254822813265399973234028462191139), Bn(47353100529918075922924061726769184450943495750859026380862800655882026978667)]\n",
      "R:  G1Element(0215d14002543dd81bf15e1722f220b3f02b2b6c275a5589685c0665cbcd071be3a7cb30b37be5717d033bc47694383f02)\n"
     ]
    }
   ],
   "source": [
    "randoms, R = get_zkp_commitment(generators)\n",
    "print(\"Randoms: \", randoms)\n",
    "print(\"R: \", R)"
   ]
  },
  {
   "cell_type": "code",
   "execution_count": 30,
   "metadata": {},
   "outputs": [
    {
     "name": "stdout",
     "output_type": "stream",
     "text": [
      "Challenge:  24815522912930042130269440612313777510725396122789907962427973435978058493570\n"
     ]
    }
   ],
   "source": [
    "c = get_zkp_challenge(generators, C, R)\n",
    "print(\"Challenge: \", c)"
   ]
  },
  {
   "cell_type": "code",
   "execution_count": 31,
   "metadata": {},
   "outputs": [
    {
     "data": {
      "text/plain": [
       "Bn(24815522912930042130269440612313777510725396122789907962427973435978058493570)"
      ]
     },
     "execution_count": 31,
     "metadata": {},
     "output_type": "execute_result"
    }
   ],
   "source": [
    "c"
   ]
  },
  {
   "cell_type": "code",
   "execution_count": 32,
   "metadata": {},
   "outputs": [
    {
     "name": "stdout",
     "output_type": "stream",
     "text": [
      "Response:  [Bn(13977764089080994701520257059824533322228551292855587099447807569204051334230), Bn(51374018868899559629132916644760406486383470798674238979850584892422052586873), Bn(31602149107291604980823903207394530214316926919018607085665885256543340516707), Bn(44705627686242831139595078441366391176688923986096009979498370113729211549717)]\n"
     ]
    }
   ],
   "source": [
    "response = get_zkp_response(randoms, c, prover_inputs)\n",
    "print(\"Response: \", response)\n",
    "# response[3] = Bn(2)"
   ]
  },
  {
   "cell_type": "code",
   "execution_count": 33,
   "metadata": {},
   "outputs": [
    {
     "data": {
      "text/plain": [
       "True"
      ]
     },
     "execution_count": 33,
     "metadata": {},
     "output_type": "execute_result"
    }
   ],
   "source": [
    "verify_zkp(R, C, c, generators, response)"
   ]
  }
 ],
 "metadata": {
  "kernelspec": {
   "display_name": "Python 3",
   "language": "python",
   "name": "python3"
  },
  "language_info": {
   "codemirror_mode": {
    "name": "ipython",
    "version": 3
   },
   "file_extension": ".py",
   "mimetype": "text/x-python",
   "name": "python",
   "nbconvert_exporter": "python",
   "pygments_lexer": "ipython3",
   "version": "3.10.6"
  },
  "orig_nbformat": 4,
  "vscode": {
   "interpreter": {
    "hash": "916dbcbb3f70747c44a77c7bcd40155683ae19c65e1c03b4aa3499c5328201f1"
   }
  }
 },
 "nbformat": 4,
 "nbformat_minor": 2
}
